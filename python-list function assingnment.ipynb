{
 "cells": [
  {
   "cell_type": "code",
   "execution_count": 1,
   "id": "6ae3f5c4-d7a4-4f24-b00a-8a609d67aadb",
   "metadata": {},
   "outputs": [
    {
     "name": "stdout",
     "output_type": "stream",
     "text": [
      "[1, 2, 3, 4]\n",
      "[1, 2, 3, 4, 5, 6]\n",
      "[1, 4, 2, 3]\n",
      "[1, 2, 3, 4]\n"
     ]
    }
   ],
   "source": [
    "my_list = [1, 2, 3]\n",
    "my_list.append(4)\n",
    "print(my_list)  # Output: [1, 2, 3, 4]\n",
    "\n",
    "\n",
    "my_list = [1, 2, 3]\n",
    "my_list.extend([4, 5, 6])\n",
    "print(my_list)  # Output: [1, 2, 3, 4, 5, 6]\n",
    "\n",
    "\n",
    "my_list = [1, 2, 3]\n",
    "my_list.insert(1, 4)\n",
    "print(my_list)  # Output: [1, 4, 2, 3]\n",
    "\n",
    "\n",
    "my_list = [1, 2, 3]\n",
    "my_list = my_list + [4]\n",
    "print(my_list)  # Output: [1, 2, 3, 4]\n",
    "\n"
   ]
  },
  {
   "cell_type": "code",
   "execution_count": 2,
   "id": "2f68863b-e4de-49e0-9502-f15fb5819fc1",
   "metadata": {},
   "outputs": [
    {
     "name": "stdout",
     "output_type": "stream",
     "text": [
      "Original list: [1, 2, 3, 4, 5]\n",
      "After remove(3): [1, 2, 4, 5]\n",
      "Original list: [1, 2, 4, 5]\n",
      "After pop(1): [1, 4, 5]\n",
      "Popped element: 2\n",
      "Original list: [1, 4, 5]\n",
      "After pop(): [1, 4]\n",
      "Popped element: 5\n"
     ]
    }
   ],
   "source": [
    "my_list = [1, 2, 3, 4, 5]\n",
    "\n",
    "# Using remove()\n",
    "print(\"Original list:\", my_list)\n",
    "my_list.remove(3)\n",
    "print(\"After remove(3):\", my_list)  # Output: [1, 2, 4, 5]\n",
    "\n",
    "# Using pop()\n",
    "print(\"Original list:\", my_list)\n",
    "popped_element = my_list.pop(1)\n",
    "print(\"After pop(1):\", my_list)  # Output: [1, 4, 5]\n",
    "print(\"Popped element:\", popped_element)  # Output: 2\n",
    "\n",
    "# Using pop() without an index\n",
    "print(\"Original list:\", my_list)\n",
    "popped_element = my_list.pop()\n",
    "print(\"After pop():\", my_list)  # Output: [1, 4]\n",
    "print(\"Popped element:\", popped_element)  # Output: 5"
   ]
  },
  {
   "cell_type": "code",
   "execution_count": 5,
   "id": "6cb58358-3175-44f1-a195-f88b7d9a0d6d",
   "metadata": {},
   "outputs": [
    {
     "name": "stdout",
     "output_type": "stream",
     "text": [
      "Sorted list in descending order: [8, 6, 5, 4, 3, 2, 1]\n",
      "Sorted list in descending order: [8, 6, 5, 4, 3, 2, 1]\n"
     ]
    }
   ],
   "source": [
    "# Original list\n",
    "my_list = [5, 2, 8, 3, 1, 6, 4]\n",
    "\n",
    "# Sort the list in descending order\n",
    "my_list.sort(reverse=True)\n",
    "\n",
    "print(\"Sorted list in descending order:\", my_list)\n",
    "\n",
    "\n",
    "\n",
    "\n",
    "\n",
    "\n",
    "my_list = [5, 2, 8, 3, 1, 6, 4]\n",
    "\n",
    "sorted_list = sorted(my_list, reverse=True)\n",
    "\n",
    "print(\"Sorted list in descending order:\", sorted_list)\n",
    "\n",
    "\n"
   ]
  },
  {
   "cell_type": "code",
   "execution_count": 7,
   "id": "b17d9eb7-9279-46ef-8bf6-d7f94013fd33",
   "metadata": {},
   "outputs": [
    {
     "name": "stdout",
     "output_type": "stream",
     "text": [
      "The element 2 occurs 4 times in the list.\n",
      "4\n"
     ]
    }
   ],
   "source": [
    "def count_occurrences(lst, elem):\n",
    "    return lst.count(elem)\n",
    "\n",
    "# Example usage:\n",
    "my_list = [1, 2, 3, 2, 4, 2, 5, 2]\n",
    "element = 2\n",
    "\n",
    "count = count_occurrences(my_list, element)\n",
    "\n",
    "print(f\"The element {element} occurs {count} times in the list.\")\n",
    "\n",
    "\n",
    "\n",
    "from collections import Counter\n",
    "\n",
    "my_list = [1, 2, 3, 2, 4, 2, 5, 2]\n",
    "\n",
    "counter = Counter(my_list)\n",
    "\n",
    "print(counter[2])  # Output: 4"
   ]
  },
  {
   "cell_type": "code",
   "execution_count": null,
   "id": "9e9a9e5f-4220-4937-8134-3f61606ba444",
   "metadata": {},
   "outputs": [],
   "source": [
    "# Original list\n",
    "my_list = [1, 2, 3, 4, 5]\n",
    "\n",
    "# Method 1: Using the reverse() method\n",
    "my_list.reverse()\n",
    "print(\"Reversed list:\", my_list)\n",
    "\n",
    "# Method 2: Using slicing\n",
    "reversed_list = my_list[::-1]\n",
    "print(\"Reversed list:\", reversed_list)\n",
    "\n",
    "# Method 3: Using the reversed() function\n",
    "reversed_list = list(reversed(my_list))\n",
    "print(\"Reversed list:\", reversed_list)"
   ]
  }
 ],
 "metadata": {
  "kernelspec": {
   "display_name": "Python 3 (ipykernel)",
   "language": "python",
   "name": "python3"
  },
  "language_info": {
   "codemirror_mode": {
    "name": "ipython",
    "version": 3
   },
   "file_extension": ".py",
   "mimetype": "text/x-python",
   "name": "python",
   "nbconvert_exporter": "python",
   "pygments_lexer": "ipython3",
   "version": "3.10.8"
  }
 },
 "nbformat": 4,
 "nbformat_minor": 5
}
